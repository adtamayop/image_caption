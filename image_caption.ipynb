{
 "nbformat": 4,
 "nbformat_minor": 2,
 "metadata": {
  "language_info": {
   "name": "python",
   "codemirror_mode": {
    "name": "ipython",
    "version": 3
   },
   "version": "3.7.3-final"
  },
  "orig_nbformat": 2,
  "file_extension": ".py",
  "mimetype": "text/x-python",
  "name": "python",
  "npconvert_exporter": "python",
  "pygments_lexer": "ipython3",
  "version": 3,
  "kernelspec": {
   "name": "python37364bitloadcondac9d4cf09b2c146debc7d195cc03ccbe5",
   "display_name": "Python 3.7.3 64-bit ('load': conda)"
  }
 },
 "cells": [
  {
   "cell_type": "markdown",
   "execution_count": null,
   "metadata": {},
   "outputs": [],
   "source": [
    "<h1><center>Image caption</center></h1>"
   ]
  },
  {
   "cell_type": "code",
   "execution_count": 1,
   "metadata": {},
   "outputs": [
    {
     "name": "stderr",
     "output_type": "stream",
     "text": "Using TensorFlow backend.\n"
    }
   ],
   "source": [
    "from IPython.display import Image\n",
    "from keras.models import load_model\n",
    "from pickle import dump\n",
    "from src.preprocessing.preprocess_images import (\n",
    "    extract_features,\n",
    "    extract_feature\n",
    ")\n",
    "from src.preprocessing.preprocess_text import (\n",
    "    load_doc, \n",
    "    load_descriptions,\n",
    "    clean_descriptions,\n",
    "    to_vocabulary,\n",
    "    save_descriptions\n",
    ")\n",
    "from src.model.model import (\n",
    "    load_set,\n",
    "    load_clean_descriptions,\n",
    "    load_photo_features,\n",
    "    create_tokenizer,\n",
    "    max_length,\n",
    "    define_model,\n",
    "    train_model,\n",
    "    evaluate_model,\n",
    "    generate_desc,\n",
    "    loading_train_model\n",
    ")"
   ]
  },
  {
   "cell_type": "markdown",
   "execution_count": null,
   "metadata": {},
   "outputs": [],
   "source": [
    "### Preprocess images"
   ]
  },
  {
   "cell_type": "code",
   "execution_count": null,
   "metadata": {},
   "outputs": [],
   "source": [
    "# directory = './data/Flicker8k_Dataset'\n",
    "# features = extract_features(directory)\n",
    "# print('Extracted Features: %d' % len(features))\n",
    "# dump(features, open('./src/files/features.pkl', 'wb'))"
   ]
  },
  {
   "cell_type": "markdown",
   "execution_count": null,
   "metadata": {},
   "outputs": [],
   "source": [
    "### Preprocess text"
   ]
  },
  {
   "cell_type": "code",
   "execution_count": 2,
   "metadata": {},
   "outputs": [
    {
     "name": "stdout",
     "output_type": "stream",
     "text": "Loaded: 8092 \nVocabulary Size: 8763\n"
    }
   ],
   "source": [
    "filename = './data/Flickr8k.token.txt'\n",
    "doc = load_doc(filename)\n",
    "descriptions = load_descriptions(doc)\n",
    "print('Loaded: %d ' % len(descriptions))\n",
    "\n",
    "clean_descriptions(descriptions)\n",
    "vocabulary = to_vocabulary(descriptions)\n",
    "print('Vocabulary Size: %d' % len(vocabulary))\n",
    "save_descriptions(descriptions, './src/files/descriptions.txt')"
   ]
  },
  {
   "cell_type": "markdown",
   "execution_count": null,
   "metadata": {},
   "outputs": [],
   "source": [
    "### Carga de datos para entrenar"
   ]
  },
  {
   "cell_type": "code",
   "execution_count": 3,
   "metadata": {},
   "outputs": [],
   "source": [
    "filename_train = './data/Flickr_8k.trainImages.txt'\n",
    "filename_val = './data/Flickr_8k.devImages.txt'\n",
    "filename_test = './data/Flickr_8k.testImages.txt'\n",
    "descriptions_path = './src/files/descriptions.txt'\n",
    "features_path = './src/files/features.pkl'\n",
    "\n",
    "train = load_set(filename_train)\n",
    "val = load_set(filename_val)\n",
    "test = load_set(filename_test)\n",
    "\n",
    "train_descriptions = load_clean_descriptions(descriptions_path, train)\n",
    "val_descriptions = load_clean_descriptions(descriptions_path, val)\n",
    "test_descriptions = load_clean_descriptions(descriptions_path, test)\n",
    "\n",
    "train_features = load_photo_features(features_path, train)\n",
    "val_features = load_photo_features(features_path, val)\n",
    "test_features = load_photo_features(features_path, test)\n",
    "\n",
    "tokenizer = create_tokenizer(train_descriptions)\n",
    "dump(tokenizer, open('./src/files/tokenizer.pkl', 'wb'))"
   ]
  },
  {
   "cell_type": "markdown",
   "execution_count": null,
   "metadata": {},
   "outputs": [],
   "source": [
    "### Definición de parámetros de entrenamiento"
   ]
  },
  {
   "cell_type": "code",
   "execution_count": 4,
   "metadata": {},
   "outputs": [
    {
     "name": "stdout",
     "output_type": "stream",
     "text": "Model: \"model_1\"\n__________________________________________________________________________________________________\nLayer (type)                    Output Shape         Param #     Connected to                     \n==================================================================================================\ninput_2 (InputLayer)            (None, 34)           0                                            \n__________________________________________________________________________________________________\ninput_1 (InputLayer)            (None, 4096)         0                                            \n__________________________________________________________________________________________________\nembedding_1 (Embedding)         (None, 34, 256)      1940224     input_2[0][0]                    \n__________________________________________________________________________________________________\ndropout_1 (Dropout)             (None, 4096)         0           input_1[0][0]                    \n__________________________________________________________________________________________________\ndropout_2 (Dropout)             (None, 34, 256)      0           embedding_1[0][0]                \n__________________________________________________________________________________________________\ndense_1 (Dense)                 (None, 256)          1048832     dropout_1[0][0]                  \n__________________________________________________________________________________________________\nlstm_1 (LSTM)                   (None, 256)          525312      dropout_2[0][0]                  \n__________________________________________________________________________________________________\nadd_1 (Add)                     (None, 256)          0           dense_1[0][0]                    \n                                                                 lstm_1[0][0]                     \n__________________________________________________________________________________________________\ndense_2 (Dense)                 (None, 256)          65792       add_1[0][0]                      \n__________________________________________________________________________________________________\ndense_3 (Dense)                 (None, 7579)         1947803     dense_2[0][0]                    \n==================================================================================================\nTotal params: 5,527,963\nTrainable params: 5,527,963\nNon-trainable params: 0\n__________________________________________________________________________________________________\nNone\n"
    }
   ],
   "source": [
    "vocab_size = len(tokenizer.word_index) + 1\n",
    "max_length = max_length(train_descriptions)\n",
    "model = define_model(vocab_size, max_length)\n",
    "epochs = 2\n",
    "batch_size = 64"
   ]
  },
  {
   "cell_type": "markdown",
   "execution_count": null,
   "metadata": {},
   "outputs": [],
   "source": [
    "### Entrenamiento"
   ]
  },
  {
   "cell_type": "code",
   "execution_count": null,
   "metadata": {},
   "outputs": [],
   "source": [
    "# entrena el modelo con carga progresiva\n",
    "# loading_train_model(model, epochs, train_descriptions, \n",
    "#                     train_features, tokenizer, max_length, \n",
    "#                     vocab_size, val_descriptions, val_features)\n",
    "\n",
    "# entrena el modelo cargando todo completo\n",
    "# train_model(tokenizer, max_length, train_descriptions, \n",
    "#             train_features, vocab_size, test_descriptions, \n",
    "#             test_features)"
   ]
  },
  {
   "cell_type": "markdown",
   "execution_count": null,
   "metadata": {},
   "outputs": [],
   "source": [
    "### Evaluación del Modelo"
   ]
  },
  {
   "cell_type": "code",
   "execution_count": 5,
   "metadata": {},
   "outputs": [
    {
     "name": "stdout",
     "output_type": "stream",
     "text": "BLEU-1: 0.558866\nBLEU-2: 0.298919\nBLEU-3: 0.197759\nBLEU-4: 0.086204\n"
    }
   ],
   "source": [
    "model_path = 'C:/Users/atamayop/Desktop/image_caption/src/files/model-ep003-loss3.659-val_loss3.837.h5'\n",
    "model = load_model(model_path)\n",
    "evaluate_model(model, test_descriptions, test_features, tokenizer, max_length)"
   ]
  },
  {
   "cell_type": "markdown",
   "execution_count": null,
   "metadata": {},
   "outputs": [],
   "source": [
    "### Generación de descripciones individuales"
   ]
  },
  {
   "cell_type": "code",
   "execution_count": 6,
   "metadata": {},
   "outputs": [
    {
     "name": "stdout",
     "output_type": "stream",
     "text": "startseq dog is running through the snow endseq\n"
    },
    {
     "data": {
      "image/jpeg": "[encoded data removed]",
      "text/plain": "<IPython.core.display.Image object>"
     },
     "execution_count": 6,
     "metadata": {},
     "output_type": "execute_result"
    }
   ],
   "source": [
    "# tokenizer = load(open('./src/files/tokenizer.pkl', 'rb'))\n",
    "# model = load_model('C:/Users/atamayop/Desktop/image_caption/src/files/model_0rms.h5')\n",
    "photo_path = 'C:/Users/atamayop/Downloads/perro.jpg'\n",
    "photo = extract_feature(photo_path)\n",
    "description = generate_desc(model, tokenizer, photo, max_length)\n",
    "print(description)\n",
    "Image(filename=photo_path) "
   ]
  },
  {
   "cell_type": "markdown",
   "execution_count": null,
   "metadata": {},
   "outputs": [],
   "source": [
    "---"
   ]
  }
 ]
}